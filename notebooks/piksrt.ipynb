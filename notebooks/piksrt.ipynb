{
 "metadata": {
  "name": ""
 },
 "nbformat": 3,
 "nbformat_minor": 0,
 "worksheets": [
  {
   "cells": [
    {
     "cell_type": "code",
     "collapsed": false,
     "input": [
      "import matplotlib.pyplot as plt\n",
      "%matplotlib inline\n",
      "from sorting import sorting\n",
      "\n",
      "array_length = 10\n",
      "array = sorting.make_randomly_shuffled_list( array_length )\n",
      "[arrays,times] = sorting.piksrt(array, debug=True)"
     ],
     "language": "python",
     "metadata": {},
     "outputs": []
    },
    {
     "cell_type": "code",
     "collapsed": false,
     "input": [
      "plt.figure()\n",
      "i = 1\n",
      "elapsed_time = 0\n",
      "for array, t in zip(arrays,times):\n",
      "\tplt.clf()\n",
      "\telapsed_time += t\n",
      "\tplt.plot(range(len(array)), array,'ob')\n",
      "\tplt.xlabel(\"Elapsed time \" + str(elapsed_time) + \" in seconds at step \" + str(i))\n",
      "\ti=i+1\n",
      "\tplt.show()"
     ],
     "language": "python",
     "metadata": {},
     "outputs": []
    },
    {
     "cell_type": "code",
     "collapsed": false,
     "input": [
      "print \"Total elapsed time is \" + str(sum(times)) + \" seconds\""
     ],
     "language": "python",
     "metadata": {},
     "outputs": []
    }
   ],
   "metadata": {}
  }
 ]
}